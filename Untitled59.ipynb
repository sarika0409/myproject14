{
 "cells": [
  {
   "cell_type": "markdown",
   "id": "96630dc8",
   "metadata": {},
   "source": [
    "# Final Project: Data Science Tools and Examples"
   ]
  },
  {
   "cell_type": "markdown",
   "id": "472cf88b",
   "metadata": {},
   "source": [
    "## Introduction\n",
    "This notebook contains exercises to demonstrate knowledge of data science tools, libraries, and basic arithmetic operations. It is part of the final project for the data science course.\n"
   ]
  },
  {
   "cell_type": "markdown",
   "id": "301c2bc6",
   "metadata": {},
   "source": [
    "## Data Science Languages\n",
    "- Python\n",
    "- R\n",
    "- SQL\n",
    "- Julia\n",
    "- Java\n",
    "- Scala\n"
   ]
  },
  {
   "cell_type": "markdown",
   "id": "baf05d40",
   "metadata": {},
   "source": [
    "## Data Science Libraries\n",
    "- NumPy\n",
    "- Pandas\n",
    "- Matplotlib\n",
    "- Seaborn\n",
    "- Scikit-learn\n",
    "- TensorFlow\n",
    "- Keras\n",
    "- PyTorch\n"
   ]
  },
  {
   "cell_type": "markdown",
   "id": "44586473",
   "metadata": {},
   "source": [
    "## Data Science Tools\n",
    "\n",
    "| Tool          | Description                                  |\n",
    "|---------------|----------------------------------------------|\n",
    "| Jupyter       | Interactive computing environment            |\n",
    "| RStudio       | Integrated development environment for R    |\n",
    "| Apache Spark  | Unified analytics engine for big data       |\n",
    "| Tableau       | Data visualization software                 |\n",
    "| Power BI      | Business analytics service by Microsoft     |\n"
   ]
  },
  {
   "cell_type": "markdown",
   "id": "246a3c9b",
   "metadata": {},
   "source": [
    "## Arithmetic Expression Examples\n",
    "Below are examples of basic arithmetic operations such as addition and multiplication.\n"
   ]
  },
  {
   "cell_type": "markdown",
   "id": "8c07a016",
   "metadata": {},
   "source": [
    "# Multiplication and Addition\n",
    "a = 5\n",
    "b = 4\n",
    "product = a * b\n",
    "sum_ = a + b\n",
    "product, sum_\n"
   ]
  },
  {
   "cell_type": "markdown",
   "id": "b6280335",
   "metadata": {},
   "source": [
    "# Convert minutes to hours\n",
    "minutes = 150\n",
    "hours = minutes / 60\n",
    "hours\n"
   ]
  },
  {
   "cell_type": "markdown",
   "id": "683489f4",
   "metadata": {},
   "source": [
    "## Objectives\n",
    "- Understand the common languages used in data science\n",
    "- Familiarize with popular data science libraries\n",
    "- Demonstrate basic arithmetic operations in Python\n",
    "- Learn how to create and share a Jupyter Notebook\n"
   ]
  },
  {
   "cell_type": "markdown",
   "id": "111f7b76",
   "metadata": {},
   "source": [
    "## Author\n",
    "Sarika Amudalapalli\n"
   ]
  },
  {
   "cell_type": "code",
   "execution_count": null,
   "id": "5aed9add",
   "metadata": {},
   "outputs": [],
   "source": []
  }
 ],
 "metadata": {
  "kernelspec": {
   "display_name": "Python 3 (ipykernel)",
   "language": "python",
   "name": "python3"
  },
  "language_info": {
   "codemirror_mode": {
    "name": "ipython",
    "version": 3
   },
   "file_extension": ".py",
   "mimetype": "text/x-python",
   "name": "python",
   "nbconvert_exporter": "python",
   "pygments_lexer": "ipython3",
   "version": "3.11.5"
  }
 },
 "nbformat": 4,
 "nbformat_minor": 5
}
